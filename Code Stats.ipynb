{
 "cells": [
  {
   "cell_type": "markdown",
   "id": "2d09d1a5",
   "metadata": {},
   "source": [
    "### Simulate 100 random IID's for standard normal distribution."
   ]
  },
  {
   "cell_type": "code",
   "execution_count": 1,
   "id": "fe899703",
   "metadata": {},
   "outputs": [],
   "source": [
    "import random as rd"
   ]
  },
  {
   "cell_type": "code",
   "execution_count": 14,
   "id": "0930c0b5",
   "metadata": {},
   "outputs": [],
   "source": [
    "Array = []\n",
    "for i in range(100):\n",
    "    Array.append(rd.gauss(0,1))"
   ]
  },
  {
   "cell_type": "code",
   "execution_count": 56,
   "id": "14c798dd",
   "metadata": {},
   "outputs": [],
   "source": [
    "# Monte Carlo\n",
    "\n",
    "import math as mt\n",
    "\n",
    "def normalPDF(x):\n",
    "    return (1/mt.sqrt((2 *mt.pi)))*(mt.e**(-1*0.5*x**2))"
   ]
  },
  {
   "cell_type": "code",
   "execution_count": 57,
   "id": "a4e3d2db",
   "metadata": {},
   "outputs": [],
   "source": [
    "X = rd.random()*12-6\n",
    "Y = rd.random()*0.5"
   ]
  },
  {
   "cell_type": "code",
   "execution_count": 58,
   "id": "4861f186",
   "metadata": {},
   "outputs": [],
   "source": [
    "def GetNormals(n):\n",
    "    Array = []\n",
    "    while len(Array)<n:\n",
    "        X = rd.random()*12-6\n",
    "        Y = rd.random()*0.5\n",
    "        if normalPDF(X) >= Y:\n",
    "            Array.append(X)\n",
    "    return Array\n",
    "    "
   ]
  },
  {
   "cell_type": "code",
   "execution_count": 59,
   "id": "3d6829b9",
   "metadata": {},
   "outputs": [],
   "source": [
    "Array = GetNormals(10000)"
   ]
  },
  {
   "cell_type": "code",
   "execution_count": 60,
   "id": "2294e884",
   "metadata": {},
   "outputs": [
    {
     "data": {
      "text/plain": [
       "(array([  1,   0,   1,   2,   2,   2,   3,   4,   4,   7,   7,   6,  11,\n",
       "          8,   8,   6,  12,  23,  31,  31,  38,  46,  44,  49,  56,  60,\n",
       "         76,  71, 101,  81, 123, 121, 134, 129, 151, 150, 201, 209, 210,\n",
       "        202, 230, 243, 229, 274, 237, 256, 295, 300, 311, 294, 306, 326,\n",
       "        278, 279, 270, 269, 265, 202, 255, 219, 207, 214, 194, 149, 156,\n",
       "        141, 160, 124, 115,  91,  71,  88,  70,  69,  51,  52,  43,  32,\n",
       "         37,  26,  24,  21,  23,  19,   8,   9,   9,  10,   5,   7,   4,\n",
       "          2,   2,   2,   2,   2,   1,   0,   0,   1], dtype=int64),\n",
       " array([-3.59412723, -3.52166884, -3.44921046, -3.37675207, -3.30429368,\n",
       "        -3.2318353 , -3.15937691, -3.08691852, -3.01446013, -2.94200175,\n",
       "        -2.86954336, -2.79708497, -2.72462658, -2.6521682 , -2.57970981,\n",
       "        -2.50725142, -2.43479303, -2.36233465, -2.28987626, -2.21741787,\n",
       "        -2.14495949, -2.0725011 , -2.00004271, -1.92758432, -1.85512594,\n",
       "        -1.78266755, -1.71020916, -1.63775077, -1.56529239, -1.492834  ,\n",
       "        -1.42037561, -1.34791723, -1.27545884, -1.20300045, -1.13054206,\n",
       "        -1.05808368, -0.98562529, -0.9131669 , -0.84070851, -0.76825013,\n",
       "        -0.69579174, -0.62333335, -0.55087496, -0.47841658, -0.40595819,\n",
       "        -0.3334998 , -0.26104142, -0.18858303, -0.11612464, -0.04366625,\n",
       "         0.02879213,  0.10125052,  0.17370891,  0.2461673 ,  0.31862568,\n",
       "         0.39108407,  0.46354246,  0.53600084,  0.60845923,  0.68091762,\n",
       "         0.75337601,  0.82583439,  0.89829278,  0.97075117,  1.04320956,\n",
       "         1.11566794,  1.18812633,  1.26058472,  1.3330431 ,  1.40550149,\n",
       "         1.47795988,  1.55041827,  1.62287665,  1.69533504,  1.76779343,\n",
       "         1.84025182,  1.9127102 ,  1.98516859,  2.05762698,  2.13008537,\n",
       "         2.20254375,  2.27500214,  2.34746053,  2.41991891,  2.4923773 ,\n",
       "         2.56483569,  2.63729408,  2.70975246,  2.78221085,  2.85466924,\n",
       "         2.92712763,  2.99958601,  3.0720444 ,  3.14450279,  3.21696117,\n",
       "         3.28941956,  3.36187795,  3.43433634,  3.50679472,  3.57925311,\n",
       "         3.6517115 ]))"
      ]
     },
     "execution_count": 60,
     "metadata": {},
     "output_type": "execute_result"
    }
   ],
   "source": [
    "import numpy as np\n",
    "np.histogram(Array,100)"
   ]
  },
  {
   "cell_type": "code",
   "execution_count": 61,
   "id": "bba0e967",
   "metadata": {},
   "outputs": [
    {
     "data": {
      "text/plain": [
       "(array([  1.,   0.,   1.,   2.,   2.,   2.,   3.,   4.,   4.,   7.,   7.,\n",
       "          6.,  11.,   8.,   8.,   6.,  12.,  23.,  31.,  31.,  38.,  46.,\n",
       "         44.,  49.,  56.,  60.,  76.,  71., 101.,  81., 123., 121., 134.,\n",
       "        129., 151., 150., 201., 209., 210., 202., 230., 243., 229., 274.,\n",
       "        237., 256., 295., 300., 311., 294., 306., 326., 278., 279., 270.,\n",
       "        269., 265., 202., 255., 219., 207., 214., 194., 149., 156., 141.,\n",
       "        160., 124., 115.,  91.,  71.,  88.,  70.,  69.,  51.,  52.,  43.,\n",
       "         32.,  37.,  26.,  24.,  21.,  23.,  19.,   8.,   9.,   9.,  10.,\n",
       "          5.,   7.,   4.,   2.,   2.,   2.,   2.,   2.,   1.,   0.,   0.,\n",
       "          1.]),\n",
       " array([-3.59412723, -3.52166884, -3.44921046, -3.37675207, -3.30429368,\n",
       "        -3.2318353 , -3.15937691, -3.08691852, -3.01446013, -2.94200175,\n",
       "        -2.86954336, -2.79708497, -2.72462658, -2.6521682 , -2.57970981,\n",
       "        -2.50725142, -2.43479303, -2.36233465, -2.28987626, -2.21741787,\n",
       "        -2.14495949, -2.0725011 , -2.00004271, -1.92758432, -1.85512594,\n",
       "        -1.78266755, -1.71020916, -1.63775077, -1.56529239, -1.492834  ,\n",
       "        -1.42037561, -1.34791723, -1.27545884, -1.20300045, -1.13054206,\n",
       "        -1.05808368, -0.98562529, -0.9131669 , -0.84070851, -0.76825013,\n",
       "        -0.69579174, -0.62333335, -0.55087496, -0.47841658, -0.40595819,\n",
       "        -0.3334998 , -0.26104142, -0.18858303, -0.11612464, -0.04366625,\n",
       "         0.02879213,  0.10125052,  0.17370891,  0.2461673 ,  0.31862568,\n",
       "         0.39108407,  0.46354246,  0.53600084,  0.60845923,  0.68091762,\n",
       "         0.75337601,  0.82583439,  0.89829278,  0.97075117,  1.04320956,\n",
       "         1.11566794,  1.18812633,  1.26058472,  1.3330431 ,  1.40550149,\n",
       "         1.47795988,  1.55041827,  1.62287665,  1.69533504,  1.76779343,\n",
       "         1.84025182,  1.9127102 ,  1.98516859,  2.05762698,  2.13008537,\n",
       "         2.20254375,  2.27500214,  2.34746053,  2.41991891,  2.4923773 ,\n",
       "         2.56483569,  2.63729408,  2.70975246,  2.78221085,  2.85466924,\n",
       "         2.92712763,  2.99958601,  3.0720444 ,  3.14450279,  3.21696117,\n",
       "         3.28941956,  3.36187795,  3.43433634,  3.50679472,  3.57925311,\n",
       "         3.6517115 ]),\n",
       " <BarContainer object of 100 artists>)"
      ]
     },
     "execution_count": 61,
     "metadata": {},
     "output_type": "execute_result"
    },
    {
     "data": {
      "image/png": "[encoded data removed]",
      "text/plain": [
       "<Figure size 432x288 with 1 Axes>"
      ]
     },
     "metadata": {
      "needs_background": "light"
     },
     "output_type": "display_data"
    }
   ],
   "source": [
    "import matplotlib.pyplot as plt\n",
    "plt.hist(Array,100)"
   ]
  },
  {
   "cell_type": "markdown",
   "id": "b0770c44",
   "metadata": {},
   "source": [
    "### Build a poisson distribution without help of random "
   ]
  },
  {
   "cell_type": "code",
   "execution_count": 68,
   "id": "06bec68b",
   "metadata": {},
   "outputs": [],
   "source": [
    "import math as mt\n",
    "\n",
    "def pdfExpo(x,lmbda):\n",
    "    return lmbda*mt.e**(-1*lmbda*x)\n",
    "    \n",
    "def expo(lmbda,number):\n",
    "    Array = []\n",
    "    X = rd.random()*5*lmbda\n",
    "    Y = rd.random()*lmbda\n",
    "    while len(Array) < number:\n",
    "        if Y <= pdfExpo(X,lmbda):\n",
    "            Array.append(X)\n",
    "    return Array"
   ]
  },
  {
   "cell_type": "code",
   "execution_count": null,
   "id": "4557f450",
   "metadata": {},
   "outputs": [],
   "source": [
    "import matplotlib.pyplot as plt"
   ]
  },
  {
   "cell_type": "code",
   "execution_count": 75,
   "id": "bc4c132c",
   "metadata": {},
   "outputs": [],
   "source": [
    " Y = rd.random()"
   ]
  },
  {
   "cell_type": "code",
   "execution_count": 72,
   "id": "b57a19ab",
   "metadata": {},
   "outputs": [],
   "source": [
    "X = rd.random()*3"
   ]
  },
  {
   "cell_type": "code",
   "execution_count": 82,
   "id": "1c69d219",
   "metadata": {},
   "outputs": [
    {
     "data": {
      "text/plain": [
       "0.006737946999085469"
      ]
     },
     "execution_count": 82,
     "metadata": {},
     "output_type": "execute_result"
    }
   ],
   "source": [
    "pdfExpo(5,1)"
   ]
  },
  {
   "cell_type": "code",
   "execution_count": 86,
   "id": "bf556a13",
   "metadata": {},
   "outputs": [
    {
     "data": {
      "text/plain": [
       "(array([  1.,   0.,   1.,   2.,   2.,   2.,   3.,   4.,   4.,   7.,   7.,\n",
       "          6.,  11.,   8.,   8.,   6.,  12.,  23.,  31.,  31.,  38.,  46.,\n",
       "         44.,  49.,  56.,  60.,  76.,  71., 101.,  81., 123., 121., 134.,\n",
       "        129., 151., 150., 201., 209., 210., 202., 230., 243., 229., 274.,\n",
       "        237., 256., 295., 300., 311., 294., 306., 326., 278., 279., 270.,\n",
       "        269., 265., 202., 255., 219., 207., 214., 194., 149., 156., 141.,\n",
       "        160., 124., 115.,  91.,  71.,  88.,  70.,  69.,  51.,  52.,  43.,\n",
       "         32.,  37.,  26.,  24.,  21.,  23.,  19.,   8.,   9.,   9.,  10.,\n",
       "          5.,   7.,   4.,   2.,   2.,   2.,   2.,   2.,   1.,   0.,   0.,\n",
       "          1.]),\n",
       " array([-3.59412723, -3.52166884, -3.44921046, -3.37675207, -3.30429368,\n",
       "        -3.2318353 , -3.15937691, -3.08691852, -3.01446013, -2.94200175,\n",
       "        -2.86954336, -2.79708497, -2.72462658, -2.6521682 , -2.57970981,\n",
       "        -2.50725142, -2.43479303, -2.36233465, -2.28987626, -2.21741787,\n",
       "        -2.14495949, -2.0725011 , -2.00004271, -1.92758432, -1.85512594,\n",
       "        -1.78266755, -1.71020916, -1.63775077, -1.56529239, -1.492834  ,\n",
       "        -1.42037561, -1.34791723, -1.27545884, -1.20300045, -1.13054206,\n",
       "        -1.05808368, -0.98562529, -0.9131669 , -0.84070851, -0.76825013,\n",
       "        -0.69579174, -0.62333335, -0.55087496, -0.47841658, -0.40595819,\n",
       "        -0.3334998 , -0.26104142, -0.18858303, -0.11612464, -0.04366625,\n",
       "         0.02879213,  0.10125052,  0.17370891,  0.2461673 ,  0.31862568,\n",
       "         0.39108407,  0.46354246,  0.53600084,  0.60845923,  0.68091762,\n",
       "         0.75337601,  0.82583439,  0.89829278,  0.97075117,  1.04320956,\n",
       "         1.11566794,  1.18812633,  1.26058472,  1.3330431 ,  1.40550149,\n",
       "         1.47795988,  1.55041827,  1.62287665,  1.69533504,  1.76779343,\n",
       "         1.84025182,  1.9127102 ,  1.98516859,  2.05762698,  2.13008537,\n",
       "         2.20254375,  2.27500214,  2.34746053,  2.41991891,  2.4923773 ,\n",
       "         2.56483569,  2.63729408,  2.70975246,  2.78221085,  2.85466924,\n",
       "         2.92712763,  2.99958601,  3.0720444 ,  3.14450279,  3.21696117,\n",
       "         3.28941956,  3.36187795,  3.43433634,  3.50679472,  3.57925311,\n",
       "         3.6517115 ]),\n",
       " <BarContainer object of 100 artists>)"
      ]
     },
     "execution_count": 86,
     "metadata": {},
     "output_type": "execute_result"
    },
    {
     "data": {
      "image/png": "[encoded data removed]",
      "text/plain": [
       "<Figure size 432x288 with 1 Axes>"
      ]
     },
     "metadata": {
      "needs_background": "light"
     },
     "output_type": "display_data"
    }
   ],
   "source": [
    "plt.hist(Array,100)"
   ]
  },
  {
   "cell_type": "code",
   "execution_count": 87,
   "id": "1b4eadad",
   "metadata": {},
   "outputs": [],
   "source": [
    "def poissonfromExpo(Array):\n",
    "    summ = Array[0]\n",
    "    PoissonEvents = [Array[0]]\n",
    "    for i in Array[1:]:\n",
    "        summ += i\n",
    "        PoissonEvents.append(summ)\n",
    "    return(PoissonEvents)\n",
    "        "
   ]
  },
  {
   "cell_type": "markdown",
   "id": "c06e7b73",
   "metadata": {},
   "source": [
    "Sample Questions:\n",
    "\n",
    "1. Code a hash table in python\n",
    "2. One of the coding questions: rejection sampling.\n",
    "write code to generate iid draws from distribution X when we only have access to a random number generator\n",
    "1.When to use mean and median?\n",
    "2. For sample size n, the margin of error is 3. How many more samples do we need to make the margin of error to 0.3?\n",
    "3. X is draw from the normal distribution of mu with standard deviation of 1. Decides whether mu is not zero. So I do the hypothesis testing. How reliable the test is?\n",
    "4. Coding Question -> write a function to generate N sample from normal distribution and plot the histogram.\n",
    "\n",
    "We have 6 columns of data. How to compare the first 3 to the last 3 ? I had to use the coding note pad to write the codes.\n",
    "\n",
    "There were also basic coding questions about manipulating data and running MC simulations.\n",
    "multiply all a[i,j] in a i rows j columns dataset."
   ]
  },
  {
   "cell_type": "markdown",
   "id": "70f13d1a",
   "metadata": {},
   "source": [
    "### Find confidence interval of mean for this sample [1,2,34,2,1,2,3,5,4]  ?"
   ]
  },
  {
   "cell_type": "code",
   "execution_count": 12,
   "id": "202e28bc",
   "metadata": {},
   "outputs": [],
   "source": [
    "import random\n",
    "import math\n",
    "Sample = [1,2,34,2,1,2,3,5,4]"
   ]
  },
  {
   "cell_type": "code",
   "execution_count": 113,
   "id": "37bd7f3c",
   "metadata": {},
   "outputs": [],
   "source": [
    "def ConfidenceInterval(Sample,numberofboots):\n",
    "    bootmeans = []\n",
    "    for i in range(numberofboots):\n",
    "        Array = []\n",
    "        for j in range(len(Sample)):\n",
    "            Array.append(random.choice(Sample))\n",
    "        bootmeans.append(sum(Array)/len(Array))\n",
    "        \n",
    "    bootmeans.sort()\n",
    "        \n",
    "    minimumCI = bootmeans[math.floor(len(bootmeans)/40)]\n",
    "        \n",
    "    maximumCI = bootmeans[-1*math.floor(len(bootmeans)/40)]\n",
    "        \n",
    "    return minimumCI,maximumCI"
   ]
  },
  {
   "cell_type": "code",
   "execution_count": 114,
   "id": "c1ddc476",
   "metadata": {},
   "outputs": [
    {
     "data": {
      "text/plain": [
       "(1.8888888888888888, 13.222222222222221)"
      ]
     },
     "execution_count": 114,
     "metadata": {},
     "output_type": "execute_result"
    }
   ],
   "source": [
    "ConfidenceInterval(Sample,10000)"
   ]
  },
  {
   "cell_type": "code",
   "execution_count": 6,
   "id": "86aaf4f2",
   "metadata": {},
   "outputs": [],
   "source": [
    "import math"
   ]
  },
  {
   "cell_type": "markdown",
   "id": "6de3fd76",
   "metadata": {},
   "source": [
    "#### Use Logistic Regression to fit this data\n",
    "\n",
    "X1 = [1,2,3,1,2,3,1], X2 = [1,0,1,2,1,2,1], Y = [1,0,0,1,0,1,0]"
   ]
  },
  {
   "cell_type": "markdown",
   "id": "b65af833",
   "metadata": {},
   "source": [
    "pr(Y) = 1/(1+math.e**(X1*b1+X2*b2))\n",
    "\n",
    "Likelihood = Pr(Data/theta) = pi(pr(Data_i/theta))\n",
    "\n",
    "log(Likelihood) = sigma(log(Datai/theta))\n",
    "\n",
    "theta = argmax(loglikelihood)\n",
    "\n",
    "Likelihood = Ya*log(p)+(1-Ya)log(1-p)\n"
   ]
  },
  {
   "cell_type": "code",
   "execution_count": 10,
   "id": "4358782f",
   "metadata": {},
   "outputs": [],
   "source": [
    "def Squigle(x,b):\n",
    "    return 1/(1+math.e*(sum([x[i]*b[i] for i in range(len(x))])))"
   ]
  },
  {
   "cell_type": "code",
   "execution_count": 10,
   "id": "adcb7c1b",
   "metadata": {},
   "outputs": [
    {
     "data": {
      "text/plain": [
       "0.5508171362876387"
      ]
     },
     "execution_count": 10,
     "metadata": {},
     "output_type": "execute_result"
    }
   ],
   "source": [
    "Squigle([1,2],[0.1,0.1])"
   ]
  },
  {
   "cell_type": "code",
   "execution_count": 24,
   "id": "573e7fe0",
   "metadata": {},
   "outputs": [],
   "source": [
    "def Cost(predicted,actual):\n",
    "    return math.log(predicted)*actual+(1-actual)*math.log(1-predicted)"
   ]
  },
  {
   "cell_type": "code",
   "execution_count": 30,
   "id": "89d84c21",
   "metadata": {},
   "outputs": [],
   "source": [
    "import pandas as pd\n",
    "X1 = [1,2,3,1,2,3,1]\n",
    "X2 = [1,0,1,2,1,2,1]\n",
    "Y = [1,0,0,1,0,1,0]\n",
    "data = {'x1':X1,'x2':X2,'y':Y}\n",
    "data = pd.DataFrame(data)"
   ]
  },
  {
   "cell_type": "code",
   "execution_count": 45,
   "id": "a95bc656",
   "metadata": {},
   "outputs": [],
   "source": [
    "def TotalLikelihood(data,params):\n",
    "    total_Likelihood = 0\n",
    "    for x,y in zip(list(data.apply(lambda x:Squigle(x[:-1],params),1)),data['y']):\n",
    "            total_Likelihood += Cost(x,y)\n",
    "    return total_Likelihood"
   ]
  },
  {
   "cell_type": "code",
   "execution_count": 46,
   "id": "a4b36309",
   "metadata": {},
   "outputs": [
    {
     "data": {
      "text/plain": [
       "-7.298060580208685"
      ]
     },
     "execution_count": 46,
     "metadata": {},
     "output_type": "execute_result"
    }
   ],
   "source": [
    "TotalLikelihood(data,params)"
   ]
  },
  {
   "cell_type": "code",
   "execution_count": null,
   "id": "e671170e",
   "metadata": {},
   "outputs": [],
   "source": [
    "def FindOptimalParams(data,step = 0.01,inital = [0,0]):\n",
    "    gradient = 1\n",
    "    for i in range(10000):\n",
    "        initialLikelihood = TotalLikelihood(data,params)\n",
    "        params_mod = [param+step*gradient for param in initial]\n",
    "        finalLikelihood - = TotalLikelihood(data,params)\n",
    "        gradient = (finalLikelihood -  initialLikelihood)/(step*gradient)"
   ]
  }
 ],
 "metadata": {
  "kernelspec": {
   "display_name": "Python 3 (ipykernel)",
   "language": "python",
   "name": "python3"
  },
  "language_info": {
   "codemirror_mode": {
    "name": "ipython",
    "version": 3
   },
   "file_extension": ".py",
   "mimetype": "text/x-python",
   "name": "python",
   "nbconvert_exporter": "python",
   "pygments_lexer": "ipython3",
   "version": "3.9.7"
  }
 },
 "nbformat": 4,
 "nbformat_minor": 5
}
