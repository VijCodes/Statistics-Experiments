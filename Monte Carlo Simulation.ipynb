{
 "cells": [
  {
   "attachments": {
    "image-2.png": {
     "image/png": "[encoded data removed]"
    }
   },
   "cell_type": "markdown",
   "id": "74411160",
   "metadata": {},
   "source": [
    "![image-2.png](attachment:image-2.png)\n",
    "\n",
    "\n"
   ]
  },
  {
   "cell_type": "markdown",
   "id": "d0f7ecb6",
   "metadata": {},
   "source": [
    "#### Calculate above function using Monte Carlo Simulation"
   ]
  },
  {
   "cell_type": "code",
   "execution_count": 19,
   "id": "31c3c923",
   "metadata": {},
   "outputs": [],
   "source": [
    "import random\n",
    "import math"
   ]
  },
  {
   "cell_type": "code",
   "execution_count": 20,
   "id": "72f0d031",
   "metadata": {},
   "outputs": [
    {
     "data": {
      "text/plain": [
       "0.47890860114105116"
      ]
     },
     "execution_count": 20,
     "metadata": {},
     "output_type": "execute_result"
    }
   ],
   "source": [
    "random.random()"
   ]
  },
  {
   "cell_type": "code",
   "execution_count": 21,
   "id": "9a0bc369",
   "metadata": {},
   "outputs": [],
   "source": [
    "def Uniform(minimum,maximum):\n",
    "    return minimum+(maximum-minimum)*random.random()"
   ]
  },
  {
   "cell_type": "code",
   "execution_count": 22,
   "id": "32c2218f",
   "metadata": {},
   "outputs": [
    {
     "data": {
      "text/plain": [
       "1.011557590278861"
      ]
     },
     "execution_count": 22,
     "metadata": {},
     "output_type": "execute_result"
    }
   ],
   "source": [
    "Uniform(0,10)"
   ]
  },
  {
   "cell_type": "code",
   "execution_count": 23,
   "id": "2611396f",
   "metadata": {},
   "outputs": [],
   "source": [
    "def f_of_x(x):\n",
    "    return (math.e**(-1*x))/(1+(x-1)**2)"
   ]
  },
  {
   "cell_type": "code",
   "execution_count": 27,
   "id": "b8864d31",
   "metadata": {},
   "outputs": [],
   "source": [
    "def MonteCarlo(minimum,maximum,samples = 5000):\n",
    "    SumofX = 0\n",
    "    for i in range(samples):\n",
    "        X = Uniform(minimum,maximum)\n",
    "        SumofX += f_of_x(X)\n",
    "    return (maximum-minimum)*(SumofX/samples)"
   ]
  },
  {
   "cell_type": "code",
   "execution_count": 38,
   "id": "c2b2f27c",
   "metadata": {},
   "outputs": [],
   "source": [
    "estimate = MonteCarlo(0,30,samples = 500000)\n",
    "\n",
    "def variance(array):\n",
    "    mean = sum(array)/len(array)\n",
    "    return sum([(i-mean)**2 for i in array])"
   ]
  },
  {
   "cell_type": "code",
   "execution_count": 69,
   "id": "1e6712c8",
   "metadata": {},
   "outputs": [],
   "source": [
    "def VarinFunction(samplesize =100000):\n",
    "    I = []\n",
    "    for i in range(samplesize):\n",
    "        X = Uniform(0,30)\n",
    "        I.append(f_of_x(X))\n",
    "    return variance(I)"
   ]
  },
  {
   "cell_type": "code",
   "execution_count": 73,
   "id": "0186a41c",
   "metadata": {},
   "outputs": [
    {
     "data": {
      "text/plain": [
       "1.2210281101085858"
      ]
     },
     "execution_count": 73,
     "metadata": {},
     "output_type": "execute_result"
    }
   ],
   "source": [
    "float(math.sqrt((VarinFunction()*30**2)/500000))"
   ]
  },
  {
   "cell_type": "code",
   "execution_count": 71,
   "id": "a8c2a0a0",
   "metadata": {},
   "outputs": [
    {
     "data": {
      "text/plain": [
       "835.01439850381"
      ]
     },
     "execution_count": 71,
     "metadata": {},
     "output_type": "execute_result"
    }
   ],
   "source": [
    "VarinFunction()"
   ]
  },
  {
   "cell_type": "code",
   "execution_count": 63,
   "id": "c87bc283",
   "metadata": {},
   "outputs": [],
   "source": [
    "def get_crude_MC_variance(num_samples):\n",
    "    \"\"\"\n",
    "    This function returns the variance fo the Crude Monte Carlo.\n",
    "    Note that the inputed number of samples does not neccissarily\n",
    "    need to correspond to number of samples used in the Monte\n",
    "    Carlo Simulation.\n",
    "    Args:\n",
    "    - num_samples (int)\n",
    "    Return:\n",
    "    - Variance for Crude Monte Carlo approximation of f(x) (float)\n",
    "    \"\"\"\n",
    "    int_max = 5 # this is the max of our integration range\n",
    "    # get the average of squares\n",
    "    running_total = 0\n",
    "    for i in range(num_samples):\n",
    "        x = Uniform(0, int_max)\n",
    "        running_total += f_of_x(x)**2\n",
    "    sum_of_sqs = running_total*int_max / num_samples\n",
    "    \n",
    "    # get square of average\n",
    "    running_total = 0\n",
    "    for i in range(num_samples):\n",
    "        x = Uniform(0, int_max)\n",
    "        running_total = f_of_x(x)\n",
    "    sq_ave = (int_max*running_total/num_samples)**2\n",
    "    \n",
    "    return sum_of_sqs - sq_ave"
   ]
  },
  {
   "cell_type": "code",
   "execution_count": 65,
   "id": "ab9b8d4c",
   "metadata": {},
   "outputs": [
    {
     "data": {
      "text/plain": [
       "0.26124837289877373"
      ]
     },
     "execution_count": 65,
     "metadata": {},
     "output_type": "execute_result"
    }
   ],
   "source": [
    "get_crude_MC_variance(5000)"
   ]
  },
  {
   "cell_type": "code",
   "execution_count": null,
   "id": "cd5d2d8c",
   "metadata": {},
   "outputs": [],
   "source": []
  }
 ],
 "metadata": {
  "kernelspec": {
   "display_name": "Python 3 (ipykernel)",
   "language": "python",
   "name": "python3"
  },
  "language_info": {
   "codemirror_mode": {
    "name": "ipython",
    "version": 3
   },
   "file_extension": ".py",
   "mimetype": "text/x-python",
   "name": "python",
   "nbconvert_exporter": "python",
   "pygments_lexer": "ipython3",
   "version": "3.9.7"
  }
 },
 "nbformat": 4,
 "nbformat_minor": 5
}
